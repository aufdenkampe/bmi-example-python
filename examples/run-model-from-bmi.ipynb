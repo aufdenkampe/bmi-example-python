{
 "cells": [
  {
   "cell_type": "markdown",
   "metadata": {},
   "source": [
    "# Run the `Heat` model through its BMI"
   ]
  },
  {
   "cell_type": "markdown",
   "metadata": {},
   "source": [
    "`Heat` models the diffusion of temperature on a uniform rectangular plate with Dirichlet boundary conditions. View the source code for the [model](https://github.com/csdms/bmi-example-python/blob/master/heat/heat.py) and its [BMI](https://github.com/csdms/bmi-example-python/blob/master/heat/bmi_heat.py) on GitHub."
   ]
  },
  {
   "cell_type": "markdown",
   "metadata": {},
   "source": [
    "Start by importing `os`, `numpy` and the `Heat` BMI:"
   ]
  },
  {
   "cell_type": "code",
   "execution_count": 1,
   "metadata": {},
   "outputs": [],
   "source": [
    "import os\n",
    "import numpy as np\n",
    "\n",
    "from heat import BmiHeat"
   ]
  },
  {
   "cell_type": "markdown",
   "metadata": {},
   "source": [
    "#### If you get `ModuleNotFoundError`:\n",
    "\n",
    "Add your project Path to Miniconda/Anaconda sites-packages, running the following in your console, replacing `/your/path/to/src` with your specific path.\n",
    "\n",
    "```console\n",
    "conda develop /your/path/to/src \n",
    "```\n",
    "\n",
    "Then restart your Python kernel."
   ]
  },
  {
   "cell_type": "code",
   "execution_count": 2,
   "metadata": {},
   "outputs": [
    {
     "name": "stdout",
     "output_type": "stream",
     "text": [
      "path exists, skipping /Users/aaufdenkampe/Documents/Python/bmi-example-python\n",
      "completed operation for: /Users/aaufdenkampe/Documents/Python/bmi-example-python\n"
     ]
    }
   ],
   "source": [
    "!conda develop /Users/aaufdenkampe/Documents/Python/bmi-example-python/"
   ]
  },
  {
   "cell_type": "code",
   "execution_count": 20,
   "metadata": {},
   "outputs": [
    {
     "data": {
      "text/plain": [
       "['__abstractmethods__',\n",
       " '__class__',\n",
       " '__delattr__',\n",
       " '__dict__',\n",
       " '__dir__',\n",
       " '__doc__',\n",
       " '__eq__',\n",
       " '__format__',\n",
       " '__ge__',\n",
       " '__getattribute__',\n",
       " '__getstate__',\n",
       " '__gt__',\n",
       " '__hash__',\n",
       " '__init__',\n",
       " '__init_subclass__',\n",
       " '__le__',\n",
       " '__lt__',\n",
       " '__module__',\n",
       " '__ne__',\n",
       " '__new__',\n",
       " '__reduce__',\n",
       " '__reduce_ex__',\n",
       " '__repr__',\n",
       " '__setattr__',\n",
       " '__sizeof__',\n",
       " '__slots__',\n",
       " '__str__',\n",
       " '__subclasshook__',\n",
       " '__weakref__',\n",
       " '_abc_impl',\n",
       " '_input_var_names',\n",
       " '_name',\n",
       " '_output_var_names',\n",
       " 'finalize',\n",
       " 'get_component_name',\n",
       " 'get_current_time',\n",
       " 'get_end_time',\n",
       " 'get_grid_edge_count',\n",
       " 'get_grid_edge_nodes',\n",
       " 'get_grid_face_count',\n",
       " 'get_grid_face_edges',\n",
       " 'get_grid_face_nodes',\n",
       " 'get_grid_node_count',\n",
       " 'get_grid_nodes_per_face',\n",
       " 'get_grid_origin',\n",
       " 'get_grid_rank',\n",
       " 'get_grid_shape',\n",
       " 'get_grid_size',\n",
       " 'get_grid_spacing',\n",
       " 'get_grid_type',\n",
       " 'get_grid_x',\n",
       " 'get_grid_y',\n",
       " 'get_grid_z',\n",
       " 'get_input_item_count',\n",
       " 'get_input_var_names',\n",
       " 'get_output_item_count',\n",
       " 'get_output_var_names',\n",
       " 'get_start_time',\n",
       " 'get_time_step',\n",
       " 'get_time_units',\n",
       " 'get_value',\n",
       " 'get_value_at_indices',\n",
       " 'get_value_ptr',\n",
       " 'get_var_grid',\n",
       " 'get_var_itemsize',\n",
       " 'get_var_location',\n",
       " 'get_var_nbytes',\n",
       " 'get_var_type',\n",
       " 'get_var_units',\n",
       " 'initialize',\n",
       " 'set_value',\n",
       " 'set_value_at_indices',\n",
       " 'update',\n",
       " 'update_frac',\n",
       " 'update_until']"
      ]
     },
     "execution_count": 20,
     "metadata": {},
     "output_type": "execute_result"
    }
   ],
   "source": [
    "dir(BmiHeat)"
   ]
  },
  {
   "cell_type": "markdown",
   "metadata": {},
   "source": [
    "Create an instance of the model's BMI."
   ]
  },
  {
   "cell_type": "code",
   "execution_count": 21,
   "metadata": {},
   "outputs": [],
   "source": [
    "x = BmiHeat()"
   ]
  },
  {
   "cell_type": "markdown",
   "metadata": {},
   "source": [
    "What's the name of this model?"
   ]
  },
  {
   "cell_type": "code",
   "execution_count": 22,
   "metadata": {},
   "outputs": [
    {
     "name": "stdout",
     "output_type": "stream",
     "text": [
      "The 2D Heat Equation\n"
     ]
    }
   ],
   "source": [
    "print(x.get_component_name())"
   ]
  },
  {
   "cell_type": "markdown",
   "metadata": {},
   "source": [
    "Start the `Heat` model through its BMI using a configuration file:"
   ]
  },
  {
   "cell_type": "code",
   "execution_count": 23,
   "metadata": {},
   "outputs": [
    {
     "name": "stdout",
     "output_type": "stream",
     "text": [
      "# Heat model configuration\n",
      "shape:\n",
      "  - 6\n",
      "  - 8\n",
      "spacing:\n",
      "  - 1.0\n",
      "  - 1.0\n",
      "origin:\n",
      "  - 0.0\n",
      "  - 0.0\n",
      "alpha: 1.0\n"
     ]
    }
   ],
   "source": [
    "cat heat.yaml"
   ]
  },
  {
   "cell_type": "code",
   "execution_count": 24,
   "metadata": {},
   "outputs": [],
   "source": [
    "x.initialize(\"heat.yaml\")"
   ]
  },
  {
   "cell_type": "markdown",
   "metadata": {},
   "source": [
    "Check the time information for the model."
   ]
  },
  {
   "cell_type": "code",
   "execution_count": 25,
   "metadata": {},
   "outputs": [
    {
     "name": "stdout",
     "output_type": "stream",
     "text": [
      "Start time: 0.0\n",
      "End time: 1.7976931348623157e+308\n",
      "Current time: 0.0\n",
      "Time step: 0.25\n",
      "Time units: s\n"
     ]
    }
   ],
   "source": [
    "print(\"Start time:\", x.get_start_time())\n",
    "print(\"End time:\", x.get_end_time())\n",
    "print(\"Current time:\", x.get_current_time())\n",
    "print(\"Time step:\", x.get_time_step())\n",
    "print(\"Time units:\", x.get_time_units())"
   ]
  },
  {
   "cell_type": "markdown",
   "metadata": {},
   "source": [
    "Show the input and output variables for the component (aside on [Standard Names](https://csdms.colorado.edu/wiki/CSDMS_Standard_Names)):"
   ]
  },
  {
   "cell_type": "code",
   "execution_count": 26,
   "metadata": {},
   "outputs": [
    {
     "name": "stdout",
     "output_type": "stream",
     "text": [
      "('plate_surface__temperature',)\n",
      "('plate_surface__temperature',)\n"
     ]
    }
   ],
   "source": [
    "print(x.get_input_var_names())\n",
    "print(x.get_output_var_names())"
   ]
  },
  {
   "cell_type": "markdown",
   "metadata": {},
   "source": [
    "Next, get the identifier for the grid on which the temperature variable is defined:"
   ]
  },
  {
   "cell_type": "code",
   "execution_count": 27,
   "metadata": {},
   "outputs": [
    {
     "name": "stdout",
     "output_type": "stream",
     "text": [
      "Grid id: 0\n"
     ]
    }
   ],
   "source": [
    "grid_id = x.get_var_grid(\"plate_surface__temperature\")\n",
    "print(\"Grid id:\", grid_id)"
   ]
  },
  {
   "cell_type": "markdown",
   "metadata": {},
   "source": [
    "Then get the grid attributes:"
   ]
  },
  {
   "cell_type": "code",
   "execution_count": 28,
   "metadata": {},
   "outputs": [
    {
     "name": "stdout",
     "output_type": "stream",
     "text": [
      "Grid type: uniform_rectilinear\n",
      "Grid rank: 2\n",
      "Grid shape: [6 8]\n",
      "Grid spacing: [  1.0   1.0]\n"
     ]
    }
   ],
   "source": [
    "print(\"Grid type:\", x.get_grid_type(grid_id))\n",
    "\n",
    "rank = x.get_grid_rank(grid_id)\n",
    "print(\"Grid rank:\", rank)\n",
    "\n",
    "shape = np.ndarray(rank, dtype=int)\n",
    "x.get_grid_shape(grid_id, shape)\n",
    "print(\"Grid shape:\", shape)\n",
    "\n",
    "spacing = np.ndarray(rank, dtype=float)\n",
    "x.get_grid_spacing(grid_id, spacing)\n",
    "print(\"Grid spacing:\", spacing)"
   ]
  },
  {
   "cell_type": "markdown",
   "metadata": {},
   "source": [
    "These commands are made somewhat un-Pythonic by the generic design of the BMI."
   ]
  },
  {
   "cell_type": "markdown",
   "metadata": {},
   "source": [
    "Through the model's BMI, zero out the initial temperature field, except for an impulse near the middle.\n",
    "Note that *set_value* expects a one-dimensional array for input."
   ]
  },
  {
   "cell_type": "code",
   "execution_count": 29,
   "metadata": {},
   "outputs": [],
   "source": [
    "temperature = np.zeros(shape)\n",
    "temperature[3, 4] = 100.0\n",
    "x.set_value(\"plate_surface__temperature\", temperature)"
   ]
  },
  {
   "cell_type": "markdown",
   "metadata": {},
   "source": [
    "Check that the temperature field has been updated. Note that *get_value* expects a one-dimensional array to receive output."
   ]
  },
  {
   "cell_type": "code",
   "execution_count": 30,
   "metadata": {},
   "outputs": [
    {
     "name": "stdout",
     "output_type": "stream",
     "text": [
      "[[  0.0   0.0   0.0   0.0   0.0   0.0   0.0   0.0]\n",
      " [  0.0   0.0   0.0   0.0   0.0   0.0   0.0   0.0]\n",
      " [  0.0   0.0   0.0   0.0   0.0   0.0   0.0   0.0]\n",
      " [  0.0   0.0   0.0   0.0  100.0   0.0   0.0   0.0]\n",
      " [  0.0   0.0   0.0   0.0   0.0   0.0   0.0   0.0]\n",
      " [  0.0   0.0   0.0   0.0   0.0   0.0   0.0   0.0]]\n"
     ]
    }
   ],
   "source": [
    "temperature_flat = np.empty_like(temperature).flatten()\n",
    "x.get_value(\"plate_surface__temperature\", temperature_flat)\n",
    "print(temperature_flat.reshape(shape))"
   ]
  },
  {
   "cell_type": "markdown",
   "metadata": {},
   "source": [
    "Now advance the model by a single time step:"
   ]
  },
  {
   "cell_type": "code",
   "execution_count": 31,
   "metadata": {},
   "outputs": [],
   "source": [
    "x.update()"
   ]
  },
  {
   "cell_type": "markdown",
   "metadata": {},
   "source": [
    "View the new state of the temperature field:"
   ]
  },
  {
   "cell_type": "code",
   "execution_count": 32,
   "metadata": {},
   "outputs": [
    {
     "name": "stdout",
     "output_type": "stream",
     "text": [
      "[[  0.0   0.0   0.0   0.0   0.0   0.0   0.0   0.0]\n",
      " [  0.0   0.0   0.0   0.0   0.0   0.0   0.0   0.0]\n",
      " [  0.0   0.0   0.0   0.0  12.5   0.0   0.0   0.0]\n",
      " [  0.0   0.0   0.0  12.5  50.0  12.5   0.0   0.0]\n",
      " [  0.0   0.0   0.0   0.0  12.5   0.0   0.0   0.0]\n",
      " [  0.0   0.0   0.0   0.0   0.0   0.0   0.0   0.0]]\n"
     ]
    }
   ],
   "source": [
    "x.get_value(\"plate_surface__temperature\", temperature_flat)\n",
    "print(temperature_flat.reshape(shape))"
   ]
  },
  {
   "cell_type": "markdown",
   "metadata": {},
   "source": [
    "There's diffusion!"
   ]
  },
  {
   "cell_type": "markdown",
   "metadata": {},
   "source": [
    "Advance the model to some distant time:"
   ]
  },
  {
   "cell_type": "code",
   "execution_count": 33,
   "metadata": {},
   "outputs": [],
   "source": [
    "distant_time = 2.0\n",
    "while x.get_current_time() < distant_time:\n",
    "    x.update()"
   ]
  },
  {
   "cell_type": "markdown",
   "metadata": {},
   "source": [
    "View the final state of the temperature field:"
   ]
  },
  {
   "cell_type": "code",
   "execution_count": 34,
   "metadata": {},
   "outputs": [
    {
     "name": "stdout",
     "output_type": "stream",
     "text": [
      "[[  0.0   0.0   0.0   0.0   0.0   0.0   0.0   0.0]\n",
      " [  0.0   0.2   0.9   2.1   2.8   2.1   0.9   0.0]\n",
      " [  0.0   0.7   2.2   4.7   6.2   4.7   2.1   0.0]\n",
      " [  0.0   0.9   3.0   6.1   7.9   6.1   2.8   0.0]\n",
      " [  0.0   0.6   2.0   4.1   5.3   4.1   1.8   0.0]\n",
      " [  0.0   0.0   0.0   0.0   0.0   0.0   0.0   0.0]]\n"
     ]
    }
   ],
   "source": [
    "np.set_printoptions(formatter={\"float\": \"{: 5.1f}\".format})\n",
    "x.get_value(\"plate_surface__temperature\", temperature_flat)\n",
    "print(temperature_flat.reshape(shape))"
   ]
  },
  {
   "cell_type": "markdown",
   "metadata": {},
   "source": [
    "Note that temperature isn't conserved on the plate:"
   ]
  },
  {
   "cell_type": "code",
   "execution_count": 35,
   "metadata": {},
   "outputs": [
    {
     "name": "stdout",
     "output_type": "stream",
     "text": [
      "74.10263419151306\n"
     ]
    }
   ],
   "source": [
    "print(temperature_flat.sum())"
   ]
  },
  {
   "cell_type": "markdown",
   "metadata": {},
   "source": [
    "End the model:"
   ]
  },
  {
   "cell_type": "code",
   "execution_count": 36,
   "metadata": {},
   "outputs": [],
   "source": [
    "x.finalize()"
   ]
  },
  {
   "cell_type": "markdown",
   "metadata": {},
   "source": []
  },
  {
   "cell_type": "code",
   "execution_count": 38,
   "metadata": {},
   "outputs": [
    {
     "name": "stdout",
     "output_type": "stream",
     "text": [
      "\u001b[1m============================= test session starts ==============================\u001b[0m\n",
      "platform darwin -- Python 3.11.9, pytest-8.2.0, pluggy-1.5.0\n",
      "rootdir: /Users/aaufdenkampe\n",
      "plugins: anyio-4.3.0, dependency-0.5.1\n",
      "collected 4 items                                                              \u001b[0m\u001b[1m\n",
      "\n",
      "../../../../miniconda3/envs/phreeqc/lib/python3.11/site-packages/bmi_tester/_bootstrap/control_test.py \u001b[32m.\u001b[0m\u001b[32m [ 25%]\n",
      "\u001b[0m\u001b[32m.\u001b[0m\u001b[33ms\u001b[0m\u001b[33ms\u001b[0m\u001b[32m                                                                      [100%]\u001b[0m\n",
      "\n",
      "\u001b[32m========================= \u001b[32m\u001b[1m2 passed\u001b[0m, \u001b[33m2 skipped\u001b[0m\u001b[32m in 0.69s\u001b[0m\u001b[32m =========================\u001b[0m\n",
      "\u001b[1m============================= test session starts ==============================\u001b[0m\n",
      "platform darwin -- Python 3.11.9, pytest-8.2.0, pluggy-1.5.0\n",
      "rootdir: /Users/aaufdenkampe\n",
      "plugins: anyio-4.3.0, dependency-0.5.1\n",
      "collected 12 items                                                             \u001b[0m\n",
      "\n",
      "../../../../miniconda3/envs/phreeqc/lib/python3.11/site-packages/bmi_tester/_tests/stage_1/info_test.py \u001b[32m.\u001b[0m\u001b[32m [  8%]\n",
      "\u001b[0m\u001b[32m.\u001b[0m\u001b[33ms\u001b[0m\u001b[33ms\u001b[0m\u001b[33ms\u001b[0m\u001b[33ms\u001b[0m\u001b[33m                                                                    [ 50%]\u001b[0m\n",
      "../../../../miniconda3/envs/phreeqc/lib/python3.11/site-packages/bmi_tester/_tests/stage_1/time_test.py \u001b[32m.\u001b[0m\u001b[33m [ 58%]\n",
      "\u001b[0m\u001b[32m.\u001b[0m\u001b[32m.\u001b[0m\u001b[32m.\u001b[0m\u001b[33ms\u001b[0m\u001b[33ms\u001b[0m\u001b[33m                                                                    [100%]\u001b[0m\n",
      "\n",
      "\u001b[33m=============================== warnings summary ===============================\u001b[0m\n",
      "miniconda3/envs/phreeqc/lib/python3.11/site-packages/bmi_tester/_tests/stage_1/info_test.py::test_get_component_name\n",
      "  /Users/aaufdenkampe/miniconda3/envs/phreeqc/lib/python3.11/site-packages/_pytest/python.py:166: PytestReturnNotNoneWarning: Expected None, but miniconda3/envs/phreeqc/lib/python3.11/site-packages/bmi_tester/_tests/stage_1/info_test.py::test_get_component_name returned 'The 2D Heat Equation', which will be an error in a future version of pytest.  Did you mean to use `assert` instead of `return`?\n",
      "    warnings.warn(\n",
      "\n",
      "-- Docs: https://docs.pytest.org/en/stable/how-to/capture-warnings.html\n",
      "\u001b[33m=================== \u001b[32m6 passed\u001b[0m, \u001b[33m\u001b[1m6 skipped\u001b[0m, \u001b[33m\u001b[1m1 warning\u001b[0m\u001b[33m in 0.24s\u001b[0m\u001b[33m ====================\u001b[0m\n",
      "\u001b[1m============================= test session starts ==============================\u001b[0m\n",
      "platform darwin -- Python 3.11.9, pytest-8.2.0, pluggy-1.5.0\n",
      "rootdir: /Users/aaufdenkampe\n",
      "plugins: anyio-4.3.0, dependency-0.5.1\n",
      "collected 6 items                                                              \u001b[0m\n",
      "\n",
      "../../../../miniconda3/envs/phreeqc/lib/python3.11/site-packages/bmi_tester/_tests/stage_2/var_test.py \u001b[32m.\u001b[0m\u001b[32m [ 16%]\n",
      "\u001b[0m\u001b[32m.\u001b[0m\u001b[32m.\u001b[0m\u001b[32m.\u001b[0m\u001b[32m.\u001b[0m\u001b[32m.\u001b[0m\u001b[32m                                                                    [100%]\u001b[0m\n",
      "\n",
      "\u001b[32m============================== \u001b[32m\u001b[1m6 passed\u001b[0m\u001b[32m in 0.19s\u001b[0m\u001b[32m ===============================\u001b[0m\n",
      "\u001b[1m============================= test session starts ==============================\u001b[0m\n",
      "platform darwin -- Python 3.11.9, pytest-8.2.0, pluggy-1.5.0\n",
      "rootdir: /Users/aaufdenkampe\n",
      "plugins: anyio-4.3.0, dependency-0.5.1\n",
      "collected 18 items                                                             \u001b[0m\n",
      "\n",
      "../../../../miniconda3/envs/phreeqc/lib/python3.11/site-packages/bmi_tester/_tests/stage_3/grid_test.py \u001b[32m.\u001b[0m\u001b[32m [  5%]\n",
      "\u001b[0m\u001b[32m.\u001b[0m\u001b[32m.\u001b[0m\u001b[33ms\u001b[0m\u001b[33ms\u001b[0m\u001b[33ms\u001b[0m\u001b[33ms\u001b[0m\u001b[33ms\u001b[0m\u001b[33ms\u001b[0m\u001b[32m                                                                 [ 50%]\u001b[0m\n",
      "../../../../miniconda3/envs/phreeqc/lib/python3.11/site-packages/bmi_tester/_tests/stage_3/grid_uniform_rectilinear_test.py \u001b[32m.\u001b[0m\u001b[32m [ 55%]\n",
      "\u001b[0m\u001b[32m.\u001b[0m\u001b[32m.\u001b[0m\u001b[32m                                                                       [ 66%]\u001b[0m\n",
      "../../../../miniconda3/envs/phreeqc/lib/python3.11/site-packages/bmi_tester/_tests/stage_3/grid_unstructured_test.py \u001b[33ms\u001b[0m\u001b[32m [ 72%]\n",
      "\u001b[0m\u001b[33ms\u001b[0m\u001b[33ms\u001b[0m\u001b[32m                                                                       [ 83%]\u001b[0m\n",
      "../../../../miniconda3/envs/phreeqc/lib/python3.11/site-packages/bmi_tester/_tests/stage_3/value_test.py \u001b[32m.\u001b[0m\u001b[32m [ 88%]\n",
      "\u001b[0m\u001b[33ms\u001b[0m\u001b[32m.\u001b[0m\u001b[32m                                                                       [100%]\u001b[0m\n",
      "\n",
      "\u001b[32m======================== \u001b[32m\u001b[1m8 passed\u001b[0m, \u001b[33m10 skipped\u001b[0m\u001b[32m in 0.25s\u001b[0m\u001b[32m =========================\u001b[0m\n",
      "🎉 All tests passed!\n"
     ]
    }
   ],
   "source": [
    "!bmi-test heat:BmiHeat --config-file=heat.yaml --root-dir=. -vvv"
   ]
  },
  {
   "cell_type": "code",
   "execution_count": null,
   "metadata": {},
   "outputs": [],
   "source": []
  }
 ],
 "metadata": {
  "kernelspec": {
   "display_name": "Python 3 (ipykernel)",
   "language": "python",
   "name": "python3"
  },
  "language_info": {
   "codemirror_mode": {
    "name": "ipython",
    "version": 3
   },
   "file_extension": ".py",
   "mimetype": "text/x-python",
   "name": "python",
   "nbconvert_exporter": "python",
   "pygments_lexer": "ipython3",
   "version": "3.11.9"
  }
 },
 "nbformat": 4,
 "nbformat_minor": 1
}
